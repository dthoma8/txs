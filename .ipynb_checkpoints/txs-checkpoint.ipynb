{
 "cells": [
  {
   "cell_type": "markdown",
   "metadata": {},
   "source": [
    "how much was blank on [date]?\n",
    "how much was blank from [date1] to [date2]?\n",
    "how much was blank last quarter?\n",
    "how much blank currently?\n",
    "how much recently?\n",
    "how much over last two quarters?\n",
    "how much over prior month? <- could imply 30day time period and not explicitly month\n",
    "how much last month?\n",
    "compare this year's quarter x to last year/year's."
   ]
  },
  {
   "cell_type": "markdown",
   "metadata": {},
   "source": [
    "vaFuncs"
   ]
  },
  {
   "cell_type": "markdown",
   "metadata": {},
   "source": [
    "\"provide all inventory for October of last year.\"\n",
    "            \n",
    "            |\n",
    "            |\n",
    "        blackbox\n",
    "        \n",
    "- Assumption(We are Identifying Values that we preceive to be values of the DB)\n",
    "\n",
    "* Process:\n",
    "    * Eval for Date Cases\n",
    "        * No Date Cases, Bye\n",
    "        * Identify Date Case present\n",
    "    * Execute func that corresponds to date case\n",
    "        * Understand schema\n",
    "            * sweep across each of the tables available in a given schema\n",
    "            * sweep across each of the columns - entities in each table\n",
    "        * Break user input to form to schema needs\n",
    "            * Form sub-query if needed\n",
    "        * form date query\n",
    "* other approaches \n",
    "    * could use datefinder for cases in which date is explicitly defined"
   ]
  },
  {
   "cell_type": "markdown",
   "metadata": {},
   "source": [
    "\n",
    "show me average avaibility percent by force element - \n",
    "show me average cost by  year - bar/line chart\n",
    "show me average cost by item\n",
    "avg cost by nature of cost\n",
    "\n",
    "- prompt users as to what questions are allowable *hint: all*"
   ]
  },
  {
   "cell_type": "code",
   "execution_count": 1,
   "metadata": {
    "scrolled": true
   },
   "outputs": [
    {
     "name": "stdout",
     "output_type": "stream",
     "text": [
      "This is the question:  how much was revenue last october?\n"
     ]
    },
    {
     "ename": "AttributeError",
     "evalue": "'DateHandler' object has no attribute 'date_ents'",
     "output_type": "error",
     "traceback": [
      "\u001b[1;31m---------------------------------------------------------------------------\u001b[0m",
      "\u001b[1;31mAttributeError\u001b[0m                            Traceback (most recent call last)",
      "\u001b[1;32m<ipython-input-1-90d99fae8589>\u001b[0m in \u001b[0;36m<module>\u001b[1;34m\u001b[0m\n\u001b[0;32m     23\u001b[0m     \u001b[0mprint\u001b[0m\u001b[1;33m(\u001b[0m\u001b[1;34m\"This is the question: \"\u001b[0m\u001b[1;33m,\u001b[0m \u001b[0mq\u001b[0m\u001b[1;33m)\u001b[0m\u001b[1;33m\u001b[0m\u001b[1;33m\u001b[0m\u001b[0m\n\u001b[0;32m     24\u001b[0m     \u001b[0mdhobj\u001b[0m \u001b[1;33m=\u001b[0m \u001b[0mDateHandler\u001b[0m\u001b[1;33m(\u001b[0m\u001b[0mtokens\u001b[0m\u001b[1;33m=\u001b[0m\u001b[0mq\u001b[0m\u001b[1;33m.\u001b[0m\u001b[0msplit\u001b[0m\u001b[1;33m(\u001b[0m\u001b[1;33m)\u001b[0m\u001b[1;33m)\u001b[0m\u001b[1;33m\u001b[0m\u001b[1;33m\u001b[0m\u001b[0m\n\u001b[1;32m---> 25\u001b[1;33m     \u001b[0mprint\u001b[0m\u001b[1;33m(\u001b[0m\u001b[1;34m\"These are the date entities defined: \"\u001b[0m\u001b[1;33m,\u001b[0m \u001b[0mdhobj\u001b[0m\u001b[1;33m.\u001b[0m\u001b[0mdate_ents\u001b[0m\u001b[1;33m,\u001b[0m\u001b[1;34m\"\\n\"\u001b[0m\u001b[1;33m)\u001b[0m\u001b[1;33m\u001b[0m\u001b[1;33m\u001b[0m\u001b[0m\n\u001b[0m\u001b[0;32m     26\u001b[0m     \u001b[0mprint\u001b[0m\u001b[1;33m(\u001b[0m\u001b[1;34m\"this is the schema identified: \"\u001b[0m\u001b[1;33m,\u001b[0m \u001b[0mdhobj\u001b[0m\u001b[1;33m.\u001b[0m\u001b[0mschema_curr_style\u001b[0m\u001b[1;33m,\u001b[0m \u001b[1;34m\"\\n\"\u001b[0m\u001b[1;33m)\u001b[0m\u001b[1;33m\u001b[0m\u001b[1;33m\u001b[0m\u001b[0m\n\u001b[0;32m     27\u001b[0m     \u001b[0mprint\u001b[0m\u001b[1;33m(\u001b[0m\u001b[1;34m\"these are the reformated date ents: \"\u001b[0m\u001b[1;33m,\u001b[0m \u001b[0mdhobj\u001b[0m\u001b[1;33m.\u001b[0m\u001b[0mdate_ents\u001b[0m\u001b[1;33m)\u001b[0m\u001b[1;33m\u001b[0m\u001b[1;33m\u001b[0m\u001b[0m\n",
      "\u001b[1;31mAttributeError\u001b[0m: 'DateHandler' object has no attribute 'date_ents'"
     ]
    }
   ],
   "source": [
    "from dateHandler import DateHandler\n",
    "\n",
    "\n",
    "q1=\"how much was revenue last october?\"#last october> 10/2018\n",
    "q2=\"what was the inventory on 10/18/2018?\" #nocando\n",
    "q3=\"for november, what was our average inventory?\"\n",
    "q4=\"how many employees attritted in the months of october, november, and december?\"#  establish a sense of redundancy\n",
    "q5=\"what was revenue last quarter?\"\n",
    "q5=\"what was revenue for this quarter last year?\"# establish a sense of hierarchy\n",
    "q6=\"what is this month's inventory?\"\n",
    "q7=\"what is this year's revenue?\"\n",
    "q8=\"what is the availability to date?\"# may need actual regex parsing rather than strict matching\n",
    "q9=\"what was the availability at this point last year?\"\n",
    "q10=\"what is the revenue over the last 5 years?\"\n",
    "q11=\"for last year, how much was the total expenditures in the month of october?\"\n",
    "q12=\"how many maintenances were performed for c130 over the last quarter?\"\n",
    "q13=\"what is revenue this quarter?\"\n",
    "q14=\"what was revenue last week?\"\n",
    "\n",
    "## construct json http://localhost:8888/notebooks/txs/txs.ipynb#pairing of domain/value pairings/comparison for less than/greater than and migrate the buildquery\n",
    "qs = [q1, q2, q3, q4, q5, q6, q7, q8, q9, q10, q11, q12]#q13, q14]\n",
    "\"\"\"for q in qs:\n",
    "    print(\"This is the question: \", q)\n",
    "    dhobj = DateHandler(tokens=q.split())\n",
    "    print(\"These are the date entities defined: \", dhobj.date_ents,\"\\n\")\n",
    "    print(\"this is the schema identified: \", dhobj.schema_curr_style, \"\\n\")\n",
    "    print(\"these are the reformated date ents: \", dhobj.date_ents)\n",
    "\"\"\"\n",
    "dhobj = DateHandler(tokens=q1.split()).run()"
   ]
  },
  {
   "cell_type": "code",
   "execution_count": 2,
   "metadata": {},
   "outputs": [
    {
     "data": {
      "text/plain": [
       "<dateHandler.DateHandler at 0x1e48f171c50>"
      ]
     },
     "execution_count": 2,
     "metadata": {},
     "output_type": "execute_result"
    }
   ],
   "source": [
    "dhobj"
   ]
  },
  {
   "cell_type": "markdown",
   "metadata": {},
   "source": [
    "ambigdomainclassifier"
   ]
  },
  {
   "cell_type": "code",
   "execution_count": null,
   "metadata": {},
   "outputs": [],
   "source": [
    "import joblib\n",
    "def writeAlias(self, msg, alias_path):\n",
    "    \n",
    "    alias = joblib.load(aliases_path)\n",
    "    # expex the prior name intially provided and the correction\n",
    "    #TODO(): form input msg in non-resty way - need to track messages from instantiation to completion for the ambigcdomain engagement\n",
    "    alias[msg[\"corrected\"]].append(msg[\"prior\"])\n",
    "    joblib.dump(alias, aliases_path)\n",
    "    \n",
    "    \n",
    "def retrainNER(creds):\n",
    "    \n",
    "    NERTrainer(creds).trainNER()\n"
   ]
  },
  {
   "cell_type": "code",
   "execution_count": null,
   "metadata": {},
   "outputs": [],
   "source": [
    "from IPython.core.display import display, Javascript, HTML"
   ]
  },
  {
   "cell_type": "code",
   "execution_count": null,
   "metadata": {},
   "outputs": [],
   "source": [
    "%%javascript\n",
    "\n",
    "require.config({\n",
    "    paths: {\n",
    "        d3:\"https://cdnjs.cloudflare.com/ajax/libs/d3/4.9.1/d3.min.js\"\n",
    "    }\n",
    "});\n",
    "\n",
    "(function(element){\n",
    "    require(['d3'], function(d3) {\n",
    "        //inlieuofpreformatcontainer\n",
    "        var svg = d3.select(element.get(0)).append(\"svg\").attr(\"id\", \"chart\").attr(\"width\", 800).attr(\"height\", 800);\n",
    "        function createLinearX(data, width){\n",
    "            var x = d3.scaleLinear().domain([0, 1.05*d3.max(data, (d)=>(+d.value))]).range([0, width]),\n",
    "                xAxis = d3.axisBottom(x);\n",
    "            \n",
    "            return [x, xAxis]\n",
    "        }\n",
    "        //TODO(): add capability for time axis\n",
    "        function createLinearY(data, height){\n",
    "            var y = d3.scaleLinear().domain([0, 1.05*d3.max(data, (d)=>(+d.value))]).range([heihgt, 0]),\n",
    "                yAxis=d3.axisLeft(y);\n",
    "            return [y, yAxis]\n",
    "        }\n",
    "        \n",
    "        function plotLine(data_in){\n",
    "            var data = preprocessData(data_in),\n",
    "                margin={top:20, left: 20, right: 20, bottom: 20},\n",
    "                width=800-margin.left-margin.right,\n",
    "                height=800-margin.top-margin.bottom,\n",
    "                X=createLinearX(data, width),\n",
    "                Y=createLinearY(data, height),\n",
    "                x=X[0],\n",
    "                xAxis=X[1],\n",
    "                y=Y[0],\n",
    "                yAxis=Y[1];\n",
    "            \n",
    "            \n",
    "        }\n",
    "    });\n",
    "})(element)"
   ]
  },
  {
   "cell_type": "markdown",
   "metadata": {},
   "source": [
    "#### regex meta character breakdown\n",
    "\n",
    ". matches any single character except a line break\n",
    "[] matches any character contained between the square brackets\n",
    "[^] neglects any character matched within the square brackets\n",
    "* matches 0 or more repetitions of the preceding symbo\n",
    "+ matches 1 or more repitions of the preceding symbol\n",
    "? makes the preceding symbol optional to match\n",
    "{n,m} matches at least n but not more than n reptitions of the preceding symbol\n",
    "(x,y,z) matches the characters x,y,z in order\n",
    "| matches either the characters before or the characters after the symbol\n",
    "\\ escapes the next character\n",
    "^ matches the begininning of the input\n",
    "$ matches the end of the input"
   ]
  },
  {
   "cell_type": "markdown",
   "metadata": {},
   "source": [
    "#### Data Robot Meeting\n",
    "\n",
    "- \n",
    "- Model Deployment & Monitoring funcionality\n",
    "\n",
    "    - \n",
    "    - \n",
    "    - \n",
    "    - \n",
    "    - \n",
    "    - \n",
    "    - \n",
    "    - \n",
    "    - \n",
    "    -\n",
    "- Python Integration"
   ]
  }
 ],
 "metadata": {
  "kernelspec": {
   "display_name": "Python 3",
   "language": "python",
   "name": "python3"
  },
  "language_info": {
   "codemirror_mode": {
    "name": "ipython",
    "version": 3
   },
   "file_extension": ".py",
   "mimetype": "text/x-python",
   "name": "python",
   "nbconvert_exporter": "python",
   "pygments_lexer": "ipython3",
   "version": "3.7.3"
  }
 },
 "nbformat": 4,
 "nbformat_minor": 2
}
