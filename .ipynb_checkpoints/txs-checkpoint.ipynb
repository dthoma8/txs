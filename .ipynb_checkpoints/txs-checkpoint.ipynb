{
 "cells": [
  {
   "cell_type": "markdown",
   "metadata": {},
   "source": [
    "ambigdomainclassifier"
   ]
  },
  {
   "cell_type": "code",
   "execution_count": null,
   "metadata": {},
   "outputs": [],
   "source": [
    "import joblib\n",
    "def writeAlias(self, msg, alias_path):\n",
    "    \n",
    "    alias = joblib.load(aliases_path)\n",
    "    # expex the prior name intially provided and the correction\n",
    "    #TODO(): form input msg in non-resty way - need to track messages from instantiation to completion for the ambigcdomain engagement\n",
    "    alias[msg[\"corrected\"]].append(msg[\"prior\"])\n",
    "    joblib.dump(alias, aliases_path)\n",
    "    \n",
    "    \n",
    "def retrainNER(creds):\n",
    "    \n",
    "    NERTrainer(creds).trainNER()\n"
   ]
  },
  {
   "cell_type": "markdown",
   "metadata": {},
   "source": [
    "how much was blank on [date]?\n",
    "how much was blank from [date1] to [date2]?\n",
    "how much was blank last quarter?\n",
    "how much blank currently?\n",
    "how much recently?\n",
    "how much over last two quarters?\n",
    "how much over prior month? <- could imply 30day time period and not explicitly month\n",
    "how much last month?\n",
    "compare this year's quarter x to last year/year's."
   ]
  },
  {
   "cell_type": "code",
   "execution_count": 4,
   "metadata": {},
   "outputs": [],
   "source": [
    "import re"
   ]
  },
  {
   "cell_type": "markdown",
   "metadata": {},
   "source": [
    "#### regex meta character breakdown\n",
    "\n",
    ". matches any single character except a line break\n",
    "[] matches any character contained between the square brackets\n",
    "[^] neglects any character matched within the square brackets\n",
    "* matches 0 or more repetitions of the preceding symbo\n",
    "+ matches 1 or more repitions of the preceding symbol\n",
    "? makes the preceding symbol optional to match\n",
    "{n,m} matches at least n but not more than n reptitions of the preceding symbol\n",
    "(x,y,z) matches the characters x,y,z in order\n",
    "| matches either the characters before or the characters after the symbol\n",
    "\\ escapes the next character\n",
    "^ matches the begininning of the input\n",
    "$ matches the end of the input"
   ]
  },
  {
   "cell_type": "code",
   "execution_count": 95,
   "metadata": {},
   "outputs": [
    {
     "data": {
      "text/plain": [
       "[('1/18/2009',\n",
       "  '1',\n",
       "  '',\n",
       "  '1',\n",
       "  '18',\n",
       "  '2009',\n",
       "  '2009',\n",
       "  '',\n",
       "  '',\n",
       "  '',\n",
       "  '',\n",
       "  '',\n",
       "  '',\n",
       "  '',\n",
       "  '',\n",
       "  '')]"
      ]
     },
     "execution_count": 95,
     "metadata": {},
     "output_type": "execute_result"
    }
   ],
   "source": [
    "mos = r\"(?:[jJ]an*)|(?:[fF]eb*)|(?:[mM]ar*)|(?:[aA]pr*)|(?:[mM]ay*)|(?:[jJ]un*)|(?:[jJ]ul*)|(?:[aA]ug*)|(?:[sS]ep*)|(?:[oO]ct*)|(?:[nN]ov*)|(?:[dD]ec*)\"\n",
    "mmddyys = r\"(((\\d{2})|(\\d{1}))[/.-](\\d{2})[/.-]((\\d{4})|(\\d{2}))$)|(((\\d{2})|(\\d{1}))[/.-](\\d{2})[/.-]((\\d{4})|(\\d{2}))$)\"\n",
    "#TODO(): make case for non-day inputs\n",
    "# no need for rules to parse quarters/periods: if last period: timestamp.now() is in what quarter, deduct last quarter, etc.\n",
    "#re.findall(mos, \"retreive the budget for last June, July, October, and August. Also, march while you're at it.\")\n",
    "re.findall(mmyys, \"10/18/2009\")"
   ]
  },
  {
   "cell_type": "code",
   "execution_count": 79,
   "metadata": {},
   "outputs": [
    {
     "ename": "SyntaxError",
     "evalue": "invalid syntax (<ipython-input-79-3f4724875a66>, line 17)",
     "output_type": "error",
     "traceback": [
      "\u001b[1;36m  File \u001b[1;32m\"<ipython-input-79-3f4724875a66>\"\u001b[1;36m, line \u001b[1;32m17\u001b[0m\n\u001b[1;33m    a         \"[date] of last year\", \"last year's [date]\"\u001b[0m\n\u001b[1;37m                                  ^\u001b[0m\n\u001b[1;31mSyntaxError\u001b[0m\u001b[1;31m:\u001b[0m invalid syntax\n"
     ]
    }
   ],
   "source": [
    "class DateHandler():\n",
    "    \n",
    "    def __init__(self):\n",
    "        self.dates = None\n",
    "        # link vocab to common date cases\n",
    "        \n",
    "        self.vocab = {\"getDate\":[\"on [date]\", \"for [date]\",\n",
    "                                 \"of [date]\", \"where [date]\",\n",
    "                                 \"right [date]\", \"in [date]\"\n",
    "                                ],\n",
    "                      #ex. of getDate: what is the inventory right now?\n",
    "                      \"getPeriod\":[\"from [date] to [date]\", \"between [date] and [date]\",\n",
    "                                   \"period of [date] to [date]\", \"in [date] to [date]\"\n",
    "                                  ], \n",
    "                      #ex. of getPeriod: what is was our inventory from april to june?\n",
    "                      \"getLastDate\":[\"last [date]\", \"[date] last year\", \n",
    "                            a         \"[date] of last year\", \"last year's [date]\"\n",
    "                                    ], \n",
    "                      #ex. of getLastDate: what was revenue last october?\n",
    "                      \"getLastPeriod\":[\"last [date]\", \"prior [date]\", \"previous [date]\"], \n",
    "                      #ex. of getLastPeriod: what was the budget last year in between october and december?\n",
    "                      #ex. of getMultiple: can you return the budget for fy quarter 2 and 4 in 2017?\n",
    "                      \"triggers\":[\"january\", \"february\", \"march\", \"april\", \"may\", \"june\",\n",
    "                                  \"july\", \"august\", \"september\", \"october\", \"november\",\n",
    "                                  \"december\", \"jan\", \"feb\", \"mar\", \"apr\", \"jun\", \"jul\",\n",
    "                                  \"aug\", \"sep\", \"oct\", \"nov\", \"dec\", \"quarter\", \"period\",\n",
    "                                  \"duration\", \"year\", \"month\"\n",
    "                                 ]\n",
    "                     }\n",
    "        self.parser.mos = r\"(?:[jJ]an*)|(?:[fF]eb*)|(?:[mM]ar*)|(?:[aA]pr*)|(?:[mM]ay*)|(?:[jJ]un*)|(?:[jJ]ul*)|(?:[aA]ug*)|(?:[sS]ep*)|(?:[oO]ct*)|(?:[nN]ov*)|(?:[dD]ec*)\"\n",
    "        self.parser.mmddyys = r\"(((\\d{2})|(\\d{1}))[/.-](\\d{2})[/.-]((\\d{4})|(\\d{2}))$)|(((\\d{2})|(\\d{1}))[/.-](\\d{2})[/.-]((\\d{4})|(\\d{2}))$)\"\n",
    "        self.parser.mmyys = None\n",
    "        self.tokens = None\n",
    "    \n",
    "    def identifyDateCase(self, tokens):\n",
    "        try: \n",
    "            # eval presence of trigger w/in sentence\n",
    "            if pd.Series(tokens).isin(self.vocab.triggers):\n",
    "                date_ents = dict((k, {}) for k in set(tokens).intersection(set(self.vocab.triggers)))\n",
    "                # date ent --> phrase, query\n",
    "                for date_ent in date_ents:\n",
    "                    # initialize lists\n",
    "                    date_ents[date_ent][\"phrase\"], date_ents[date_ent][\"query\"] = [], []\n",
    "                    idx = tokens.index(date_ent)\n",
    "                    date_ents[date_ent][\"phrase\"].extend([tokens[idx-2]+tokens[idx-1]+date_ent, date_ent+tokens[idx+1]+tokens[idx+2]])\n",
    "                    \n",
    "                    \n",
    "                # want to walk around each date entity and construct small phrases to build how the user\n",
    "                \n",
    "                # is using the date entity\n",
    "                # let's walk a max of 2 grams from each date entity and fill our date entity w/[date] to eval\n",
    "                # for equivalency(?) between the constructs id'd and the user usage\n",
    "                # if the user usage is in any of our focus areas then we can proceed to implement the func\n",
    "                # rel to the focus area\n",
    "                # if there are multiple occurences of the date entities, this will need to occur\n",
    "                # @ each enity.\n",
    "                # end goal: construct a sql query to plug in elsewhere\n",
    "            else:\n",
    "                return(\"No Date Present\")\n",
    "        except Exception as e:\n",
    "            return e\n",
    "        \n",
    "    def getDate(self, tokens):\n",
    "        try:\n",
    "            self.tokens = tokens\n",
    "        except Exception as e:\n",
    "            return e\n",
    "    def getPeriod(self, tokens):\n",
    "        try:\n",
    "            self.tokens = tokens\n",
    "        except Exception as e:\n",
    "            return e\n",
    "    def getLastDate(self, tokens):\n",
    "        try:\n",
    "            self.tokens = tokens\n",
    "        except Exception as e:\n",
    "            return e\n",
    "    def getLastPeriod(self, tokens):\n",
    "        try:\n",
    "            self.tokens = tokens\n",
    "        except Exception as e:\n",
    "            return e\n",
    "    # got this from a little duckling: https://github.com/facebook/duckling/tree/master/Duckling\n",
    "    def MMDDRule(self, date_ent):\n",
    "        pass\n",
    "    def MMDDYYYYRule(self, date_ent):\n",
    "        pass\n",
    "    def quarterTimeRule(self, date_ent):\n",
    "        pass\n",
    "    def halfTimeRule(self, date_ent):\n",
    "        pass\n",
    "    def fortnightRule(self, date_ent):\n",
    "        pass\n",
    "    "
   ]
  },
  {
   "cell_type": "markdown",
   "metadata": {},
   "source": [
    "d3visuals"
   ]
  },
  {
   "cell_type": "code",
   "execution_count": 24,
   "metadata": {},
   "outputs": [],
   "source": [
    "from IPython.core.display import display, Javascript, HTML"
   ]
  },
  {
   "cell_type": "code",
   "execution_count": 25,
   "metadata": {},
   "outputs": [
    {
     "data": {
      "application/javascript": [
       "\n",
       "require.config({\n",
       "    paths: {\n",
       "        d3:\"https://cdnjs.cloudflare.com/ajax/libs/d3/4.9.1/d3.min.js\"\n",
       "    }\n",
       "});\n",
       "\n",
       "(function(element){\n",
       "    require(['d3'], function(d3) {\n",
       "        //inlieuofpreformatcontainer\n",
       "        var svg = d3.select(element.get(0)).append(\"svg\").attr(\"id\", \"chart\").attr(\"width\", 800).attr(\"height\", 800);\n",
       "        function createLinearX(data, width){\n",
       "            var x = d3.scaleLinear().domain([0, 1.05*d3.max(data, (d)=>(+d.value))]).range([0, width]),\n",
       "                xAxis = d3.axisBottom(x);\n",
       "            \n",
       "            return [x, xAxis]\n",
       "        }\n",
       "        //TODO(): add capability for time axis\n",
       "        function createLinearY(data, height){\n",
       "            var y = d3.scaleLinear().domain([0, 1.05*d3.max(data, (d)=>(+d.value))]).range([heihgt, 0]),\n",
       "                yAxis=d3.axisLeft(y);\n",
       "            return [y, yAxis]\n",
       "        }\n",
       "        \n",
       "        function plotLine(data_in){\n",
       "            var data = preprocessData(data_in),\n",
       "                margin={top:20, left: 20, right: 20, bottom: 20},\n",
       "                width=800-margin.left-margin.right,\n",
       "                height=800-margin.top-margin.bottom,\n",
       "                X=createLinearX(data, width),\n",
       "                Y=createLinearY(data, height),\n",
       "                x=X[0],\n",
       "                xAxis=X[1],\n",
       "                y=Y[0],\n",
       "                yAxis=Y[1];\n",
       "            \n",
       "            var valueline = d3.lin\n",
       "        }\n",
       "    });\n",
       "})(element)\n"
      ],
      "text/plain": [
       "<IPython.core.display.Javascript object>"
      ]
     },
     "metadata": {},
     "output_type": "display_data"
    }
   ],
   "source": [
    "%%javascript\n",
    "\n",
    "require.config({\n",
    "    paths: {\n",
    "        d3:\"https://cdnjs.cloudflare.com/ajax/libs/d3/4.9.1/d3.min.js\"\n",
    "    }\n",
    "});\n",
    "\n",
    "(function(element){\n",
    "    require(['d3'], function(d3) {\n",
    "        //inlieuofpreformatcontainer\n",
    "        var svg = d3.select(element.get(0)).append(\"svg\").attr(\"id\", \"chart\").attr(\"width\", 800).attr(\"height\", 800);\n",
    "        function createLinearX(data, width){\n",
    "            var x = d3.scaleLinear().domain([0, 1.05*d3.max(data, (d)=>(+d.value))]).range([0, width]),\n",
    "                xAxis = d3.axisBottom(x);\n",
    "            \n",
    "            return [x, xAxis]\n",
    "        }\n",
    "        //TODO(): add capability for time axis\n",
    "        function createLinearY(data, height){\n",
    "            var y = d3.scaleLinear().domain([0, 1.05*d3.max(data, (d)=>(+d.value))]).range([heihgt, 0]),\n",
    "                yAxis=d3.axisLeft(y);\n",
    "            return [y, yAxis]\n",
    "        }\n",
    "        \n",
    "        function plotLine(data_in){\n",
    "            var data = preprocessData(data_in),\n",
    "                margin={top:20, left: 20, right: 20, bottom: 20},\n",
    "                width=800-margin.left-margin.right,\n",
    "                height=800-margin.top-margin.bottom,\n",
    "                X=createLinearX(data, width),\n",
    "                Y=createLinearY(data, height),\n",
    "                x=X[0],\n",
    "                xAxis=X[1],\n",
    "                y=Y[0],\n",
    "                yAxis=Y[1];\n",
    "            \n",
    "            \n",
    "        }\n",
    "    });\n",
    "})(element)"
   ]
  },
  {
   "cell_type": "markdown",
   "metadata": {},
   "source": [
    "#### Data Robot Meeting\n",
    "\n",
    "Follow up on prior discussion\n",
    "\n",
    "- Reqnuirement for the data to be in a specif cc format \n",
    "- data prep rqd\n",
    "- "
   ]
  }
 ],
 "metadata": {
  "kernelspec": {
   "display_name": "Python 3",
   "language": "python",
   "name": "python3"
  },
  "language_info": {
   "codemirror_mode": {
    "name": "ipython",
    "version": 3
   },
   "file_extension": ".py",
   "mimetype": "text/x-python",
   "name": "python",
   "nbconvert_exporter": "python",
   "pygments_lexer": "ipython3",
   "version": "3.7.3"
  }
 },
 "nbformat": 4,
 "nbformat_minor": 2
}
