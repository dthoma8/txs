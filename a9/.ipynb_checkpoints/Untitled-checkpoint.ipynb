{
 "cells": [
  {
   "cell_type": "markdown",
   "metadata": {},
   "source": [
    "#### Week 2, Thursday\n",
    "\n",
    "**UC1 Exploration:** Availability<br />"
   ]
  },
  {
   "cell_type": "markdown",
   "metadata": {},
   "source": [
    "#### Contact Info\n",
    "\n",
    "Shruti: ,scarr@lmi.org<br/>\n",
    "Dominic: 504.559.0078 (cell), dothomas@lmi.org<br/>\n"
   ]
  },
  {
   "cell_type": "markdown",
   "metadata": {},
   "source": [
    "**Availability as it relates to Organic vs. CLS maintenance**"
   ]
  },
  {
   "cell_type": "markdown",
   "metadata": {},
   "source": [
    "#### Workflow\n",
    "\n",
    "- Assess data available - Collective\n",
    "- Identify Gaps in data available - Cara\n",
    "- Form Master Dataset - Collective\n",
    "- Identify/Implement Preprocessing necessary - Riv\n",
    "- Conduct Analysis - Matt\n",
    "- Form Meta Analyses - Mike"
   ]
  },
  {
   "cell_type": "markdown",
   "metadata": {},
   "source": [
    "metric determined:\n",
    " \n",
    "availability in hours : tail hours per day rolled in aftoc data \n",
    "\n",
    "how much does tail hours cost on organic/cls\n",
    "\n",
    "is it worth it?? are the executing the same action'\n",
    "\n",
    "variables to control for\n",
    "\n",
    "\n",
    "preprocessing needs to icnlude collinearity analysis\n",
    "\n",
    "age of fleet/"
   ]
  },
  {
   "cell_type": "code",
   "execution_count": null,
   "metadata": {},
   "outputs": [],
   "source": []
  }
 ],
 "metadata": {
  "kernelspec": {
   "display_name": "Python 3",
   "language": "python",
   "name": "python3"
  },
  "language_info": {
   "codemirror_mode": {
    "name": "ipython",
    "version": 3
   },
   "file_extension": ".py",
   "mimetype": "text/x-python",
   "name": "python",
   "nbconvert_exporter": "python",
   "pygments_lexer": "ipython3",
   "version": "3.7.3"
  }
 },
 "nbformat": 4,
 "nbformat_minor": 2
}
