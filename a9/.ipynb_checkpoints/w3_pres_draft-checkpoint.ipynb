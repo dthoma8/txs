{
 "cells": [
  {
   "cell_type": "markdown",
   "metadata": {
    "slideshow": {
     "slide_type": "slide"
    }
   },
   "source": [
    "### Week 3"
   ]
  },
  {
   "cell_type": "markdown",
   "metadata": {
    "slideshow": {
     "slide_type": "slide"
    }
   },
   "source": [
    "#### Agenda"
   ]
  },
  {
   "cell_type": "markdown",
   "metadata": {
    "slideshow": {
     "slide_type": "subslide"
    }
   },
   "source": [
    "##### Tuesday\n",
    "\n",
    "Unpack Cara's Availablilty Study + MADW Team<br/>\n",
    "<img src=\"misc_stuff/cara_study.jpg\" width=\"250\" height=\"250\"><br/>\n",
    "Question to Result Analysis in Python Pt. A<br/>\n",
    "Lunch"
   ]
  },
  {
   "cell_type": "markdown",
   "metadata": {
    "slideshow": {
     "slide_type": "fragment"
    }
   },
   "source": [
    "Question to Result Analysis in Python Pt. B<br/>\n",
    "Availability Master Data<br/>\n",
    "Commit Master Dataset to Postgres or Local RDS Instance + Riv<br/>"
   ]
  },
  {
   "cell_type": "markdown",
   "metadata": {
    "slideshow": {
     "slide_type": "fragment"
    }
   },
   "source": [
    "Define a Python Function for Availability + Matt + Mike<br/>\n",
    "Define Python Approach to Organic/CLS/Hybrid Categorization + Cara + Ken<br/>\n",
    "Identifying Drivers & Implement in Python<br/>"
   ]
  },
  {
   "cell_type": "markdown",
   "metadata": {
    "slideshow": {
     "slide_type": "subslide"
    }
   },
   "source": [
    "##### Thursday\n",
    "\n",
    "Bring together disparate parts<br/>\n",
    "Revisit Analysis & Approach<br/>\n",
    "Lunch"
   ]
  },
  {
   "cell_type": "markdown",
   "metadata": {
    "slideshow": {
     "slide_type": "fragment"
    }
   },
   "source": [
    "Determine & Implement Presentation of Approach<br/>\n",
    "Outbrief\n"
   ]
  },
  {
   "cell_type": "markdown",
   "metadata": {
    "slideshow": {
     "slide_type": "subslide"
    }
   },
   "source": [
    "#### HouseKeeping\n",
    "<br/><img src=\"misc_stuff/takingcareofbusiness.gif\"><br/>\n",
    "**Can everyone still connect to their VMs?**"
   ]
  },
  {
   "cell_type": "markdown",
   "metadata": {
    "slideshow": {
     "slide_type": "notes"
    }
   },
   "source": [
    "#### Getting into Wifi\n",
    "\n",
    "Connect to Hidden Network<br/>\n",
    "ssid = SLMI<br/>\n",
    "uncheck Connect Automatically\n",
    "\n",
    "Username=dominic.a.thomas.civ.mail.mil@lmi.org<br/>\n",
    "Password=Password12345!\n",
    "\n",
    "#### Getting into VM\n",
    "\n",
    "Search for \"rdp\"<br/>\n",
    "Launch \"Remote Desktop Portal\"\n",
    "\n",
    "Computer Name: a9-dthomas.lmi.org<br/>\n",
    "Username=LMI\\dominic.a.thomas.civ@mail.mil<br/>\n",
    "Password=Password12345!<br/>\n",
    "\n",
    "#### First Actions:\n",
    "\n",
    "Download Git for Windows: https://gitforwindows.org/<br/>\n",
    "Download Microsoft VS Code: https://code.visualstudio.com/download<br/>\n",
    "\n",
    "#### Getting into Immuta\n",
    "\n",
    "Go to: immuta.lmi.org<br/>\n",
    "Login w/Okta<br/>\n",
    "Username = dominic.a.thomas.civ@mail.mil<br/>\n",
    "Password = Password12345!\n",
    "\n",
    "Click your profile icon in the top right<br/>\n",
    "Click profile<br/>\n",
    "Create Account for SQL Credentials\n",
    "\n",
    "#### Getting into Bitbucket\n",
    "\n",
    "Go to: https://code.lmi.org/bitbucket/projects/MADWA9/repos/afa9madw/browse<br/>\n",
    "Click the clone icon just under the project icon on the left panel<br/>\n",
    "Copy the url<br/>\n",
    "Launch VS Code\n",
    "\n",
    "Launch Terminal w/in VS Code: Ctrl+Shift+```\n",
    "\n",
    "From your Root Directory, Decide where you want to store your project.\n",
    "\n",
    "`cd` into that directory\n",
    "\n",
    "`git clone url_you_copied`"
   ]
  },
  {
   "cell_type": "markdown",
   "metadata": {
    "slideshow": {
     "slide_type": "slide"
    }
   },
   "source": [
    "### Mock Data Analysis\n",
    "\n",
    "<br />\n",
    "\n",
    "<img src=\"misc_stuff/pandas.png\">\n",
    "\n",
    "Pandas Docs: https://pandas.pydata.org/pandas-docs/stable/index.html."
   ]
  },
  {
   "cell_type": "markdown",
   "metadata": {
    "slideshow": {
     "slide_type": "subslide"
    }
   },
   "source": [
    "#### Taking a Slight Step Back\n",
    "\n",
    "<img src=\"misc_stuff/stophandwaving.gif\">\n",
    "\n"
   ]
  },
  {
   "cell_type": "markdown",
   "metadata": {
    "slideshow": {
     "slide_type": "subslide"
    }
   },
   "source": [
    "`import` is equivalent to the `library` command in R. <br/>\n",
    "\n",
    "`import pandas as pd` creates an alias for the pandas library called `pd`.<br/>\n",
    "This allows you to not have to call `pandas.DataFrame()` or `pandas.Series()` everytime you need. Instead the call becomes `pd.DataFrame()`.\n",
    "\n",
    "`pandas` is the Python equivalent to the R Package `dplyr`. Instead of the `%>%` operator, you get `.method` functionality in `pandas`.\n",
    "For example, let's say you have: `df=pd.DataFrame(fname)`. `df.head()` invokes the same function as `head(df)` would in R. `df.sum()` gives you a sum of each numeric column. `df.corr()` gives you a correlation matrix of your dataset. There are really a myriad of functions that you have avaiable to call from Pandas in addition to the ability to form custom methods. Let's consider the following:\n",
    "\n",
    "```python\n",
    "import pandas as pd\n",
    "\n",
    "def iHaveACustomFuncForPandas(data, coffee):\n",
    "    if coffee == \"Full\":\n",
    "        return(\"don'thaveafunctionafterall\")\n",
    "    else:\n",
    "        return data.columns\n",
    "\n",
    "df = pd.DataFrame(fname)\n",
    "\n",
    "# assign the custom function to the native pandas dataframe object.\n",
    "pd.DataFrame.iHaveCustomFuncForPandas=iHaveCustomFuncForPandas\n",
    "\n",
    "#function call\n",
    "df.iHaveCustomFuncForPandas(coffee=\"empty\")\n",
    "    \n",
    "```"
   ]
  },
  {
   "cell_type": "markdown",
   "metadata": {
    "slideshow": {
     "slide_type": "subslide"
    }
   },
   "source": [
    "#### Load Data In"
   ]
  },
  {
   "cell_type": "code",
   "execution_count": null,
   "metadata": {
    "scrolled": true,
    "slideshow": {
     "slide_type": "fragment"
    }
   },
   "outputs": [],
   "source": [
    "import pyscopg2 as psql\n",
    "import pandas as pd"
   ]
  },
  {
   "cell_type": "code",
   "execution_count": null,
   "metadata": {
    "slideshow": {
     "slide_type": "skip"
    }
   },
   "outputs": [],
   "source": [
    "mypassword=\"dance1993\""
   ]
  },
  {
   "cell_type": "code",
   "execution_count": null,
   "metadata": {
    "slideshow": {
     "slide_type": "fragment"
    }
   },
   "outputs": [],
   "source": [
    "conn=psql.connect(host=\"immuta.lmi.org\", dbname=\"immuta\", user=\"dothomas\", passowrd=mypassword)\n",
    "inventory=pd.read_sql_query(\"SELECT * FROM final_production_schema_ref_equipmentlistinventory limit 5000\", conn)\n",
    "inventory.head(15)"
   ]
  },
  {
   "cell_type": "markdown",
   "metadata": {
    "slideshow": {
     "slide_type": "subslide"
    }
   },
   "source": [
    "#### Generic Pre-Processing"
   ]
  },
  {
   "cell_type": "markdown",
   "metadata": {
    "slideshow": {
     "slide_type": "subslide"
    }
   },
   "source": [
    "##### Data Quality?"
   ]
  },
  {
   "cell_type": "markdown",
   "metadata": {
    "slideshow": {
     "slide_type": "fragment"
    }
   },
   "source": [
    "Missing Values?"
   ]
  },
  {
   "cell_type": "code",
   "execution_count": null,
   "metadata": {
    "slideshow": {
     "slide_type": "fragment"
    }
   },
   "outputs": [],
   "source": [
    "# gives a summary of missing values for each column in the dataset\n",
    "inventory.isna().sum()\n",
    "\n",
    "# impact of dropping everything?\n",
    "inventory.shape[1] - (inventory.shape[1] - inventory.dropna().shape[1]) # gives rows\n",
    "\n",
    "\n"
   ]
  },
  {
   "cell_type": "markdown",
   "metadata": {
    "slideshow": {
     "slide_type": "subslide"
    }
   },
   "source": [
    "Cleaning Steps"
   ]
  },
  {
   "cell_type": "code",
   "execution_count": null,
   "metadata": {
    "slideshow": {
     "slide_type": "fragment"
    }
   },
   "outputs": [],
   "source": [
    "def lowercaseColumns(data):\n",
    "    try:\n",
    "        data.columns=[c.lower() for c in data.columns]\n",
    "        return data\n",
    "    except Exception as e:\n",
    "        return(e)\n",
    "pd.DataFrame.lowercaseColumns=lowercaseColumns\n",
    "inventory=inventory.lowercaseColumns()\n",
    "inventory.head()\n",
    "\n"
   ]
  },
  {
   "cell_type": "markdown",
   "metadata": {
    "slideshow": {
     "slide_type": "subslide"
    }
   },
   "source": [
    "#### View TMS TAI Over Time"
   ]
  },
  {
   "cell_type": "code",
   "execution_count": null,
   "metadata": {
    "slideshow": {
     "slide_type": "fragment"
    }
   },
   "outputs": [],
   "source": [
    "inventory.groupby([\"FYYear\", \"TMS\"]).TAI.sum()\n",
    "\n",
    "\n"
   ]
  },
  {
   "cell_type": "markdown",
   "metadata": {
    "slideshow": {
     "slide_type": "subslide"
    }
   },
   "source": [
    "##### Other Ways to Analyze?"
   ]
  },
  {
   "cell_type": "code",
   "execution_count": null,
   "metadata": {
    "slideshow": {
     "slide_type": "fragment"
    }
   },
   "outputs": [],
   "source": []
  },
  {
   "cell_type": "markdown",
   "metadata": {
    "slideshow": {
     "slide_type": "subslide"
    }
   },
   "source": [
    "Visualize Results"
   ]
  },
  {
   "cell_type": "code",
   "execution_count": null,
   "metadata": {
    "slideshow": {
     "slide_type": "fragment"
    }
   },
   "outputs": [],
   "source": []
  },
  {
   "cell_type": "markdown",
   "metadata": {
    "slideshow": {
     "slide_type": "slide"
    }
   },
   "source": [
    "#### Back to Availability Analysis"
   ]
  },
  {
   "cell_type": "markdown",
   "metadata": {
    "slideshow": {
     "slide_type": "subslide"
    }
   },
   "source": [
    "There will probably be some minimum amount of data elements id'd to populate what we need to answer the avaialbility question. However, we need to make sure that we provide enough data to either: \n",
    "\n",
    "look at our results in a variety of ways that make sense to convey approach+story\n",
    "re-approach on the fly (to some degree)"
   ]
  },
  {
   "cell_type": "markdown",
   "metadata": {
    "slideshow": {
     "slide_type": "subslide"
    }
   },
   "source": [
    "Dependencies: John Stammler stamp of approval (?). Tim to build RDS instance. Dominic to test RDS instance. Dominic to build out schema.\n",
    "\n",
    "Load Data into Postgres.\n",
    "\n",
    "*Personnel: Riv*"
   ]
  },
  {
   "cell_type": "markdown",
   "metadata": {
    "slideshow": {
     "slide_type": "subslide"
    }
   },
   "source": [
    "We need to make a function generalizable enough to adapt to the two main asks of avaialbility. We need to provide ourselves w/more flexibility than we anticipate so we can be more agile down the road when asked similar questions.\n",
    "\n",
    "*Personnel: Mike + Matt*"
   ]
  },
  {
   "cell_type": "markdown",
   "metadata": {
    "slideshow": {
     "slide_type": "subslide"
    }
   },
   "source": [
    "We need to take the threshold that we collectively decide need to be the flip to category.\n",
    "A function needs to be made to make the decision at the TMS/MDS level to assign to cat\n",
    "Another function needs to be made to aggregate the data to the mds level - make arbitrary\n",
    "\n",
    "*Personnel: Cara + Ken*"
   ]
  },
  {
   "cell_type": "markdown",
   "metadata": {
    "slideshow": {
     "slide_type": "fragment"
    }
   },
   "source": [
    "* **Aside from Fleet Age/Type, are there any missing?**"
   ]
  },
  {
   "cell_type": "markdown",
   "metadata": {
    "slideshow": {
     "slide_type": "notes"
    }
   },
   "source": [
    "We need to consider, given the final dataset that we achieve, what potential drivers may affect our isolation of organic/cls/hybrid maintenance costs.\n",
    "\n",
    "We need to automate the process of downselecting the features needed for analysis and make this adaptable should we choose to include it at a later time and date\n",
    "\n",
    "We also need to consider unsupervised methods to identify variables that may have strong correlation and thereby also may affect our analysis\n",
    "\n",
    "^\n",
    "Automate all this.\n",
    "\n",
    "\n",
    "Personnel: Riv+Mike+Matt\n",
    "*Three Person task: 1.5 hours*"
   ]
  },
  {
   "cell_type": "markdown",
   "metadata": {
    "slideshow": {
     "slide_type": "subslide"
    }
   },
   "source": []
  },
  {
   "cell_type": "markdown",
   "metadata": {
    "slideshow": {
     "slide_type": "fragment"
    }
   },
   "source": [
    "<img src=\"misc_stuff/availability1.jpg\" width=\"200\" height=\"250\">"
   ]
  },
  {
   "cell_type": "markdown",
   "metadata": {
    "slideshow": {
     "slide_type": "fragment"
    }
   },
   "source": [
    "<img src=\"misc_stuff/availability2.jpg\" width=\"250\" height=\"200\">"
   ]
  },
  {
   "cell_type": "markdown",
   "metadata": {},
   "source": [
    "Combine the disparate parts to form the entire availability pipeline\n",
    "\n",
    "*Collective: 1.0 hours*\n",
    "\n",
    "How is this data usually presented?\n",
    "\n",
    "*Collective: 1.0 hours - 3.0 Hours (Depends)*\n"
   ]
  },
  {
   "cell_type": "markdown",
   "metadata": {},
   "source": [
    "# formalize what the checkin should look like \n",
    "use friday checkin t o level set w/pat as far as what air force bring in us up to sppeed on the the air force\n",
    "\n",
    "how much ARE YOU  spending for cls?\n",
    "\n",
    "ckruger bill of amterials project. chips/addisons/chuck collins\n",
    "\n",
    "kevin/tom do we a list/directory of people/pictures/contact information\n",
    "\n",
    "we need a crr.mil email address\n",
    "\n",
    "check transactional level data\n",
    "\n",
    "expose wbs to orsas\n",
    "\n",
    "pipeline conversations for friday\n",
    "\n",
    "# leadership connect\n",
    "\n",
    "\n",
    "sit down w/a4 and iron this out to make sure that they are ok with the avaialbility anysis\n",
    "get them involved earlier\n",
    "buried in the aftoc tables in cls cost data <- Kevin wasn't able to find this\n",
    "Next week, week of the 27th\n",
    "Show some prelim analysis of cafdex\n",
    "\n",
    "issues w/getting manpower data. can we even extract useful data w/o getting in pii data. as long as it doesn't link back to an individual than it should be sueul\n",
    "immuta conn to data.\n",
    "after meeting w/a4 now we need to meet w/a1\n",
    "onversationa bout metrics:\n",
    "    just the 3 people\n",
    "lets take the group that ,qe cureently have to fthe fullest extent that we can when it comes to the manpower data and then looop in the manpower people\n",
    "training is the focus for the 3\n",
    "\n",
    "\n",
    "ds101: what is the difference between ops research and cata scienence\n",
    "can help communicating with cdo.\n",
    "can you keep them in a lane that allows orsas to continue to be effective\n",
    "\n",
    "etl is important for them to hear\n",
    "curation/some preprocessing\n",
    "CDO office is trying to own the whol data science prospective\n",
    "things to look for after an etl process\n",
    "identifying bad data\n",
    "tools & lay of the land\n",
    "interested in hands'on experience\n",
    "readiness modeling will be in python\n",
    "need to push the 20th left out a week or move it to the Thursday\n",
    "need to get the plan back to kevin & doug so we can feedback from the team\n",
    "\n",
    "\n",
    "madw askss\n",
    "ai project. cause and effect modeling\n",
    "stuffling to validate what is being returned \n",
    "get data that has a good data dictionary.\n",
    "\n",
    "look throgh the datasets \n",
    "this is the question I have\n",
    "what fiedls shoud I use to build a machine learning model\n",
    "compare against what fields ahuman would choose\n",
    "matthews coefficient\n",
    "\n",
    "data dicktionaries for each of the sourcs of madw sources\n",
    "can we get data from us and send to afa9\n",
    "and pull to afarl\n",
    "\n",
    "curated set of data sources behind the madw.\n",
    "\n",
    "they can pull directly from madw\n",
    "\n",
    "tomsecuritypplworking--> \n",
    "\n",
    "interested in wxecutive training. --> beginning of sepetember. one hours/two hour beifing. theb fo into the rest w/tom/kevin/doug/\n",
    "'\n",
    "shuri/cdo/other top af personnel may be interested which would allow us to understand more broadly what the ari force is doing\n",
    "\n",
    "if we can f ininsh uc1 by then then we can present those findings and the approach.\n",
    "\n",
    "data qiaity analyis on top f the data.\n",
    "\n",
    "identifying and flaggging data issues\n",
    "\n",
    "overview od what madw is\n",
    "what is being done\n",
    "later the better in this case\n",
    "then allows them to ttalk to us about the questions projects that athey would like to start adferesssing\n",
    "\n",
    "use these meetings as a piece to fet everybody coordinated and on the same page and garner support\n",
    "\n",
    "tasker: vm creation\n",
    "\n",
    "** Drie getting UC1 done ASAP\n"
   ]
  }
 ],
 "metadata": {
  "celltoolbar": "Slideshow",
  "kernelspec": {
   "display_name": "Python 3",
   "language": "python",
   "name": "python3"
  },
  "language_info": {
   "codemirror_mode": {
    "name": "ipython",
    "version": 3
   },
   "file_extension": ".py",
   "mimetype": "text/x-python",
   "name": "python",
   "nbconvert_exporter": "python",
   "pygments_lexer": "ipython3",
   "version": "3.7.3"
  }
 },
 "nbformat": 4,
 "nbformat_minor": 2
}
