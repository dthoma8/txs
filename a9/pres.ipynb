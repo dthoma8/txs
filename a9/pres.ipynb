{
 "cells": [
  {
   "cell_type": "markdown",
   "metadata": {
    "slideshow": {
     "slide_type": "slide"
    }
   },
   "source": [
    "### Sandbox Introduction\n",
    "<br /><br />\n",
    "<img src=\"sandbox.gif\" height=\"600\" width=\"600\">\n"
   ]
  },
  {
   "cell_type": "markdown",
   "metadata": {
    "slideshow": {
     "slide_type": "subslide"
    }
   },
   "source": [
    "#### VM Access\n",
    "<br /><br />\n",
    "<img src=\"rdp_1.png\">"
   ]
  },
  {
   "cell_type": "markdown",
   "metadata": {
    "slideshow": {
     "slide_type": "fragment"
    }
   },
   "source": [
    "###### Enter your Username & Password\n",
    "\n",
    "<img src=\"rdp_2.png\">\n"
   ]
  },
  {
   "cell_type": "markdown",
   "metadata": {
    "slideshow": {
     "slide_type": "fragment"
    }
   },
   "source": [
    "\n",
    "<img src=\"rdp_3.png\">\n"
   ]
  },
  {
   "cell_type": "markdown",
   "metadata": {
    "slideshow": {
     "slide_type": "fragment"
    }
   },
   "source": [
    "\n",
    "<img src=\"giphy.gif\" height=\"500\" width=\"500\">\n"
   ]
  },
  {
   "cell_type": "markdown",
   "metadata": {
    "slideshow": {
     "slide_type": "slide"
    }
   },
   "source": [
    "#### Python, R, & Immuta Overview\n",
    "\n",
    "<img src=\"pylogo.png\">     \n",
    "\n",
    "<img src=\"rlogo.jpg\">     \n",
    "\n",
    "<img src=\"Immuta_Logo_for_BW.jpg\">\n"
   ]
  },
  {
   "cell_type": "markdown",
   "metadata": {
    "slideshow": {
     "slide_type": "subslide"
    }
   },
   "source": [
    "<img src=\"pylogo.png\" height=\"250\" width=\"250\">\n",
    "<br /><br />\n",
    "* *Created in the early 80s by Guido Van Rossum in Amsterdam*\n",
    "<br /><br />\n",
    "* *Designed to simplify programming*\n",
    "<br /><br /><br /><br />\n",
    "**Zen of Python**\n",
    "\n",
    "<img src = \"zen_of_python.png\">"
   ]
  },
  {
   "cell_type": "markdown",
   "metadata": {
    "slideshow": {
     "slide_type": "fragment"
    }
   },
   "source": [
    "\n",
    "<img src=\"rlogo.jpg\" height=\"250\" width=\"250\">\n",
    "<br /><br /><br /><br />\n",
    "* *Developed out of the Bell Labs by John Chambers & Co.*\n",
    "<br /><br />\n",
    "* *Statistical Programming language with high extensibility*b"
   ]
  },
  {
   "cell_type": "markdown",
   "metadata": {
    "slideshow": {
     "slide_type": "fragment"
    }
   },
   "source": [
    "<img src=\"Immuta_Logo_for_BW.jpg\" height=\"250\" width=\"250\">\n",
    "<br /><br /><br /><br />\n",
    "* *Self-service/automated data governance layer*\n",
    "<br /><br />\n",
    "* *Agnostic of Data Storage Solution (On Premise, Cloud, etc.)*\n"
   ]
  },
  {
   "cell_type": "markdown",
   "metadata": {
    "slideshow": {
     "slide_type": "slide"
    }
   },
   "source": [
    "#### MADW Website\n",
    "<br /><br />\n",
    "<img src=\"madw_1.gif\">\n"
   ]
  },
  {
   "cell_type": "markdown",
   "metadata": {
    "slideshow": {
     "slide_type": "subslide"
    }
   },
   "source": [
    "##### Dashboards\n",
    "\n",
    "<img src=\"madw_dashboards.gif\">"
   ]
  },
  {
   "cell_type": "markdown",
   "metadata": {
    "slideshow": {
     "slide_type": "slide"
    }
   },
   "source": [
    "#### Getting Data From Immuta\n",
    "<br /><br />\n",
    "*Link*: https://immuta.lmi.org"
   ]
  },
  {
   "cell_type": "markdown",
   "metadata": {
    "slideshow": {
     "slide_type": "subslide"
    }
   },
   "source": [
    "#### Load Data into R"
   ]
  },
  {
   "cell_type": "code",
   "execution_count": null,
   "metadata": {
    "slideshow": {
     "slide_type": "fragment"
    }
   },
   "outputs": [],
   "source": []
  },
  {
   "cell_type": "markdown",
   "metadata": {
    "slideshow": {
     "slide_type": "fragment"
    }
   },
   "source": [
    "###### Working with the Data\n"
   ]
  },
  {
   "cell_type": "code",
   "execution_count": null,
   "metadata": {
    "slideshow": {
     "slide_type": "fragment"
    }
   },
   "outputs": [],
   "source": []
  },
  {
   "cell_type": "markdown",
   "metadata": {
    "slideshow": {
     "slide_type": "slide"
    }
   },
   "source": [
    "#### Load Data into Python\n"
   ]
  },
  {
   "cell_type": "code",
   "execution_count": null,
   "metadata": {
    "slideshow": {
     "slide_type": "subslide"
    }
   },
   "outputs": [],
   "source": [
    "import psycopg2 as psql\n",
    "\n",
    "# try/except block: meant to capture errors and stop the process rather than continuing to execute code\n",
    "try:\n",
    "    #instantiate conenction\n",
    "    conn = psql.connect(host=\"dhl1kalbert01.lmicdn.org\", database=\"madw_dev\", user=\"data_science\", password=\"rrTG82bluster@\")\n",
    "    #instantiate cursor object\n",
    "    cur=conn.cursor()\n",
    "except:\n",
    "    print(\"issomethingwrong\")\n",
    "    \n",
    "# get results\n",
    "cur.execute('SELECT * FROM immuta.madw_costs LIMIT 100')\n",
    "\n",
    "# return results\n",
    "data = cur.fetchall()\n",
    "data"
   ]
  },
  {
   "cell_type": "markdown",
   "metadata": {
    "slideshow": {
     "slide_type": "subslide"
    }
   },
   "source": [
    "#### Working With the Data"
   ]
  },
  {
   "cell_type": "code",
   "execution_count": null,
   "metadata": {
    "slideshow": {
     "slide_type": "fragment"
    }
   },
   "outputs": [],
   "source": [
    "data[0]"
   ]
  },
  {
   "cell_type": "code",
   "execution_count": null,
   "metadata": {
    "slideshow": {
     "slide_type": "fragment"
    }
   },
   "outputs": [],
   "source": [
    "d = {\"Component\":[], \"Cost_amount\":[], \"Fiscal_Year\":[], \"Level_of_Maintenance\":[],\n",
    "     \"Nature_of_Cost\":[], \"Non_Maintainers\":[], \"Number_of_Maintainers\":[],\n",
    "     \"Per_Capita_rate\":[], \"Percent_of_OD_LMO\":[], \"Provider_of_Maintenance\":[],\n",
    "     \"Service\":[]\n",
    "    }\n",
    "for row in data:\n",
    "    [d[key].append(item) for item,key in zip(row, d)]\n",
    "d        "
   ]
  },
  {
   "cell_type": "code",
   "execution_count": null,
   "metadata": {
    "slideshow": {
     "slide_type": "fragment"
    }
   },
   "outputs": [],
   "source": [
    "import pandas as pd\n",
    "df = pd.DataFrame(d)\n",
    "df.head(15)"
   ]
  },
  {
   "cell_type": "code",
   "execution_count": null,
   "metadata": {
    "slideshow": {
     "slide_type": "fragment"
    }
   },
   "outputs": [],
   "source": [
    "df.describe()"
   ]
  },
  {
   "cell_type": "code",
   "execution_count": null,
   "metadata": {
    "slideshow": {
     "slide_type": "fragment"
    }
   },
   "outputs": [],
   "source": [
    "%matplotlib inline\n",
    "\n",
    "df.Cost_amount.plot()"
   ]
  },
  {
   "cell_type": "code",
   "execution_count": null,
   "metadata": {
    "slideshow": {
     "slide_type": "fragment"
    }
   },
   "outputs": [],
   "source": [
    "df.describe(include=\"object\")"
   ]
  },
  {
   "cell_type": "code",
   "execution_count": null,
   "metadata": {
    "slideshow": {
     "slide_type": "fragment"
    }
   },
   "outputs": [],
   "source": [
    "df.Level_of_Maintenance.value_counts()"
   ]
  }
 ],
 "metadata": {
  "celltoolbar": "Slideshow",
  "kernelspec": {
   "display_name": "Python 3",
   "language": "python",
   "name": "python3"
  },
  "language_info": {
   "codemirror_mode": {
    "name": "ipython",
    "version": 3
   },
   "file_extension": ".py",
   "mimetype": "text/x-python",
   "name": "python",
   "nbconvert_exporter": "python",
   "pygments_lexer": "ipython3",
   "version": "3.6.5"
  }
 },
 "nbformat": 4,
 "nbformat_minor": 2
}
