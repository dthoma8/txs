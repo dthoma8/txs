{
 "cells": [
  {
   "cell_type": "markdown",
   "metadata": {
    "slideshow": {
     "slide_type": "slide"
    }
   },
   "source": [
    "### Sandbox Introduction\n",
    "<br /><br />\n",
    "<img src=\"sandbox.gif\" height=\"600\" width=\"600\">\n"
   ]
  },
  {
   "cell_type": "code",
   "execution_count": null,
   "metadata": {},
   "outputs": [],
   "source": []
  },
  {
   "cell_type": "markdown",
   "metadata": {
    "slideshow": {
     "slide_type": "subslide"
    }
   },
   "source": [
    "###### Housekeeping\n",
    "\n",
    "* Have you received your LMI creds?\n",
    "* Are you connected to SLMI?"
   ]
  },
  {
   "cell_type": "markdown",
   "metadata": {
    "slideshow": {
     "slide_type": "subslide"
    }
   },
   "source": [
    "#### VM Access\n",
    "<br /><br />\n",
    "<img src=\"rdp_1.png\">"
   ]
  },
  {
   "cell_type": "markdown",
   "metadata": {
    "slideshow": {
     "slide_type": "fragment"
    }
   },
   "source": [
    "###### Enter your Username & Password\n",
    "\n",
    "<img src=\"rdp_2.png\">\n"
   ]
  },
  {
   "cell_type": "markdown",
   "metadata": {
    "slideshow": {
     "slide_type": "subslide"
    }
   },
   "source": [
    "\n",
    "<img src=\"rdp_3.png\">\n"
   ]
  },
  {
   "cell_type": "markdown",
   "metadata": {
    "slideshow": {
     "slide_type": "subslide"
    }
   },
   "source": [
    "\n",
    "<img src=\"giphy.gif\" height=\"500\" width=\"500\">\n"
   ]
  },
  {
   "cell_type": "markdown",
   "metadata": {
    "slideshow": {
     "slide_type": "slide"
    }
   },
   "source": [
    "#### Python, R, & Immuta Overview\n",
    "\n",
    "<img src=\"pylogo.png\">     "
   ]
  },
  {
   "cell_type": "markdown",
   "metadata": {
    "slideshow": {
     "slide_type": "fragment"
    }
   },
   "source": [
    "<img src=\"rlogo.jpg\">"
   ]
  },
  {
   "cell_type": "markdown",
   "metadata": {
    "slideshow": {
     "slide_type": "fragment"
    }
   },
   "source": [
    "<img src=\"Immuta_Logo_for_BW.jpg\">"
   ]
  },
  {
   "cell_type": "markdown",
   "metadata": {
    "slideshow": {
     "slide_type": "subslide"
    }
   },
   "source": [
    "<img src=\"pylogo.png\" height=\"250\" width=\"250\">\n",
    "<br /><br />\n",
    "\n",
    "* *Created in the early 80s by Guido Van Rossum in Amsterdam*\n",
    "<br /><br />\n",
    "\n",
    "* *Designed to simplify programming*\n",
    "\n",
    "<br /><br /><br /><br />\n",
    "\n",
    "**Zen of Python**\n",
    "\n",
    "<img src = \"zen_of_python.png\">"
   ]
  },
  {
   "cell_type": "markdown",
   "metadata": {
    "slideshow": {
     "slide_type": "subslide"
    }
   },
   "source": [
    "\n",
    "<img src=\"rlogo.jpg\" height=\"250\" width=\"250\">\n",
    "<br /><br /><br /><br />\n",
    "\n",
    "* *Developed out of the Bell Labs by John Chambers & Co.*\n",
    "<br /><br />\n",
    "\n",
    "* *Statistical Programming language with high extensibility*b"
   ]
  },
  {
   "cell_type": "markdown",
   "metadata": {
    "slideshow": {
     "slide_type": "subslide"
    }
   },
   "source": [
    "<img src=\"Immuta_Logo_for_BW.jpg\" height=\"250\" width=\"250\">\n",
    "\n",
    "<br /><br /><br /><br />\n",
    "\n",
    "* *Self-service/automated data governance layer*\n",
    "\n",
    "<br /><br />\n",
    "\n",
    "* *Agnostic of Data Storage Solution (On Premise, Cloud, etc.)*\n"
   ]
  },
  {
   "cell_type": "markdown",
   "metadata": {
    "slideshow": {
     "slide_type": "slide"
    }
   },
   "source": [
    "#### MADW Website\n",
    "\n",
    "</br>\n",
    "<img src=\"madw_web.png\">"
   ]
  },
  {
   "cell_type": "markdown",
   "metadata": {
    "slideshow": {
     "slide_type": "subslide"
    }
   },
   "source": [
    "<br /><br />\n",
    "\n",
    "<img src=\"madw_1.gif\">\n"
   ]
  },
  {
   "cell_type": "markdown",
   "metadata": {
    "slideshow": {
     "slide_type": "subslide"
    }
   },
   "source": [
    "##### Dashboards\n",
    "\n",
    "<img src=\"madw_dashboards.gif\">"
   ]
  },
  {
   "cell_type": "markdown",
   "metadata": {
    "slideshow": {
     "slide_type": "slide"
    }
   },
   "source": [
    "#### Getting Data From Immuta\n",
    "<br /><br />"
   ]
  },
  {
   "cell_type": "markdown",
   "metadata": {
    "slideshow": {
     "slide_type": "subslide"
    }
   },
   "source": [
    "###### Login Using Okta\n",
    "<br />\n",
    "<img src=\"immuta_login.png\">"
   ]
  },
  {
   "cell_type": "markdown",
   "metadata": {
    "slideshow": {
     "slide_type": "subslide"
    }
   },
   "source": [
    "###### Enter your LMI Credentials\n",
    "<br />\n",
    "<img src=\"immuta_login_2.png\">"
   ]
  },
  {
   "cell_type": "markdown",
   "metadata": {
    "slideshow": {
     "slide_type": "subslide"
    }
   },
   "source": [
    "###### Welcome to Immuta\n",
    "<br />\n",
    "\n",
    "<img src=\"immuta_landing.png\">"
   ]
  },
  {
   "cell_type": "markdown",
   "metadata": {
    "slideshow": {
     "slide_type": "fragment"
    }
   },
   "source": [
    "<br />\n",
    "<img src=\"wemadeit.gif\">"
   ]
  },
  {
   "cell_type": "markdown",
   "metadata": {
    "slideshow": {
     "slide_type": "subslide"
    }
   },
   "source": [
    "###### How to get data\n",
    "<br />\n",
    "<img src=\"immuta_madness.gif\">"
   ]
  },
  {
   "cell_type": "markdown",
   "metadata": {
    "slideshow": {
     "slide_type": "subslide"
    }
   },
   "source": [
    "###### Create you SQL Cred\n",
    "<br />\n",
    "<img src=\"immuta_sqlconn.gif\">"
   ]
  },
  {
   "cell_type": "markdown",
   "metadata": {
    "slideshow": {
     "slide_type": "slide"
    }
   },
   "source": [
    "#### Load Data into R"
   ]
  },
  {
   "cell_type": "markdown",
   "metadata": {
    "slideshow": {
     "slide_type": "subslide"
    }
   },
   "source": [
    "###### Connect to Postgres\n",
    "<br />\n",
    "<img src=\"r_input.png\">\n"
   ]
  },
  {
   "cell_type": "markdown",
   "metadata": {
    "slideshow": {
     "slide_type": "fragment"
    }
   },
   "source": [
    "###### Results\n",
    "<br />\n",
    "<img src=\"r_output_1.png\">"
   ]
  },
  {
   "cell_type": "markdown",
   "metadata": {
    "slideshow": {
     "slide_type": "subslide"
    }
   },
   "source": [
    "###### Working with the Data\n"
   ]
  },
  {
   "cell_type": "markdown",
   "metadata": {
    "slideshow": {
     "slide_type": "fragment"
    }
   },
   "source": [
    "<img src=\"r_plot_1.png\">"
   ]
  },
  {
   "cell_type": "markdown",
   "metadata": {
    "slideshow": {
     "slide_type": "subslide"
    }
   },
   "source": [
    "<br/>\n",
    "<img src=\"r_plot_2.png\">"
   ]
  },
  {
   "cell_type": "markdown",
   "metadata": {
    "slideshow": {
     "slide_type": "slide"
    }
   },
   "source": [
    "#### Load Data into Python\n"
   ]
  },
  {
   "cell_type": "markdown",
   "metadata": {
    "slideshow": {
     "slide_type": "subslide"
    }
   },
   "source": [
    "#### Quick Walkthrough??"
   ]
  },
  {
   "cell_type": "code",
   "execution_count": 1,
   "metadata": {
    "slideshow": {
     "slide_type": "subslide"
    }
   },
   "outputs": [
    {
     "data": {
      "text/plain": [
       "['__class__',\n",
       " '__contains__',\n",
       " '__delattr__',\n",
       " '__delitem__',\n",
       " '__dir__',\n",
       " '__doc__',\n",
       " '__eq__',\n",
       " '__format__',\n",
       " '__ge__',\n",
       " '__getattribute__',\n",
       " '__getitem__',\n",
       " '__gt__',\n",
       " '__hash__',\n",
       " '__init__',\n",
       " '__init_subclass__',\n",
       " '__iter__',\n",
       " '__le__',\n",
       " '__len__',\n",
       " '__lt__',\n",
       " '__ne__',\n",
       " '__new__',\n",
       " '__reduce__',\n",
       " '__reduce_ex__',\n",
       " '__repr__',\n",
       " '__setattr__',\n",
       " '__setitem__',\n",
       " '__sizeof__',\n",
       " '__str__',\n",
       " '__subclasshook__',\n",
       " 'clear',\n",
       " 'copy',\n",
       " 'fromkeys',\n",
       " 'get',\n",
       " 'items',\n",
       " 'keys',\n",
       " 'pop',\n",
       " 'popitem',\n",
       " 'setdefault',\n",
       " 'update',\n",
       " 'values']"
      ]
     },
     "execution_count": 1,
     "metadata": {},
     "output_type": "execute_result"
    }
   ],
   "source": [
    "# dictionary/hashtables\n",
    "d = {\"key\":\"value\"}\n",
    "\n",
    "dir(d)"
   ]
  },
  {
   "cell_type": "code",
   "execution_count": 2,
   "metadata": {
    "slideshow": {
     "slide_type": "fragment"
    }
   },
   "outputs": [
    {
     "data": {
      "text/plain": [
       "dict_items([('key', 'value')])"
      ]
     },
     "execution_count": 2,
     "metadata": {},
     "output_type": "execute_result"
    }
   ],
   "source": [
    "d.items()"
   ]
  },
  {
   "cell_type": "code",
   "execution_count": 3,
   "metadata": {
    "slideshow": {
     "slide_type": "subslide"
    }
   },
   "outputs": [
    {
     "data": {
      "text/plain": [
       "['__add__',\n",
       " '__class__',\n",
       " '__contains__',\n",
       " '__delattr__',\n",
       " '__delitem__',\n",
       " '__dir__',\n",
       " '__doc__',\n",
       " '__eq__',\n",
       " '__format__',\n",
       " '__ge__',\n",
       " '__getattribute__',\n",
       " '__getitem__',\n",
       " '__gt__',\n",
       " '__hash__',\n",
       " '__iadd__',\n",
       " '__imul__',\n",
       " '__init__',\n",
       " '__init_subclass__',\n",
       " '__iter__',\n",
       " '__le__',\n",
       " '__len__',\n",
       " '__lt__',\n",
       " '__mul__',\n",
       " '__ne__',\n",
       " '__new__',\n",
       " '__reduce__',\n",
       " '__reduce_ex__',\n",
       " '__repr__',\n",
       " '__reversed__',\n",
       " '__rmul__',\n",
       " '__setattr__',\n",
       " '__setitem__',\n",
       " '__sizeof__',\n",
       " '__str__',\n",
       " '__subclasshook__',\n",
       " 'append',\n",
       " 'clear',\n",
       " 'copy',\n",
       " 'count',\n",
       " 'extend',\n",
       " 'index',\n",
       " 'insert',\n",
       " 'pop',\n",
       " 'remove',\n",
       " 'reverse',\n",
       " 'sort']"
      ]
     },
     "execution_count": 3,
     "metadata": {},
     "output_type": "execute_result"
    }
   ],
   "source": [
    "# list/array object\n",
    "\n",
    "x = [1,2,3]\n",
    "dir(x)"
   ]
  },
  {
   "cell_type": "code",
   "execution_count": 5,
   "metadata": {
    "slideshow": {
     "slide_type": "fragment"
    }
   },
   "outputs": [],
   "source": [
    "class myList(list):\n",
    "    "
   ]
  },
  {
   "cell_type": "code",
   "execution_count": 6,
   "metadata": {
    "slideshow": {
     "slide_type": "subslide"
    }
   },
   "outputs": [],
   "source": [
    "def myFunc(listObj):\n",
    "    try:\n",
    "        return listObj*3\n",
    "    except Exception as e:\n",
    "        return e"
   ]
  },
  {
   "cell_type": "code",
   "execution_count": null,
   "metadata": {
    "slideshow": {
     "slide_type": "fragment"
    }
   },
   "outputs": [],
   "source": []
  },
  {
   "cell_type": "code",
   "execution_count": 7,
   "metadata": {},
   "outputs": [],
   "source": [
    "class myListFuncs(object):\n",
    "    def __init__(self, listObj=None):\n",
    "        self.listObj=listObj\n",
    "        self.result=None\n",
    "    def myFunc(self):\n",
    "        try:\n",
    "            self.result = self.listObj * 3\n",
    "            return self\n",
    "        except Exception as e:\n",
    "            return e\n",
    "    def myOtherFunc(self):\n",
    "        try:\n",
    "            self.result = self.listObj.append(7)\n",
    "            return self\n",
    "        except Exception as e:\n",
    "            return e"
   ]
  },
  {
   "cell_type": "code",
   "execution_count": null,
   "metadata": {},
   "outputs": [],
   "source": []
  },
  {
   "cell_type": "code",
   "execution_count": 10,
   "metadata": {
    "scrolled": true
   },
   "outputs": [
    {
     "data": {
      "text/plain": [
       "[1, 5, 9, 1, 5, 9, 1, 5, 9]"
      ]
     },
     "execution_count": 10,
     "metadata": {},
     "output_type": "execute_result"
    }
   ],
   "source": [
    "myListFuncs(listObj=[1,5,9]).myFunc().result"
   ]
  },
  {
   "cell_type": "code",
   "execution_count": 11,
   "metadata": {
    "scrolled": true
   },
   "outputs": [
    {
     "data": {
      "text/html": [
       "<div>\n",
       "<style scoped>\n",
       "    .dataframe tbody tr th:only-of-type {\n",
       "        vertical-align: middle;\n",
       "    }\n",
       "\n",
       "    .dataframe tbody tr th {\n",
       "        vertical-align: top;\n",
       "    }\n",
       "\n",
       "    .dataframe thead th {\n",
       "        text-align: right;\n",
       "    }\n",
       "</style>\n",
       "<table border=\"1\" class=\"dataframe\">\n",
       "  <thead>\n",
       "    <tr style=\"text-align: right;\">\n",
       "      <th></th>\n",
       "      <th>col1</th>\n",
       "      <th>col2</th>\n",
       "      <th>col3</th>\n",
       "    </tr>\n",
       "  </thead>\n",
       "  <tbody>\n",
       "    <tr>\n",
       "      <th>0</th>\n",
       "      <td>beach</td>\n",
       "      <td>10</td>\n",
       "      <td>1</td>\n",
       "    </tr>\n",
       "    <tr>\n",
       "      <th>1</th>\n",
       "      <td>city</td>\n",
       "      <td>8</td>\n",
       "      <td>3</td>\n",
       "    </tr>\n",
       "    <tr>\n",
       "      <th>2</th>\n",
       "      <td>park</td>\n",
       "      <td>9</td>\n",
       "      <td>2</td>\n",
       "    </tr>\n",
       "    <tr>\n",
       "      <th>3</th>\n",
       "      <td>farm</td>\n",
       "      <td>7</td>\n",
       "      <td>7</td>\n",
       "    </tr>\n",
       "    <tr>\n",
       "      <th>4</th>\n",
       "      <td>suburb</td>\n",
       "      <td>5</td>\n",
       "      <td>8</td>\n",
       "    </tr>\n",
       "  </tbody>\n",
       "</table>\n",
       "</div>"
      ],
      "text/plain": [
       "     col1  col2  col3\n",
       "0   beach    10     1\n",
       "1    city     8     3\n",
       "2    park     9     2\n",
       "3    farm     7     7\n",
       "4  suburb     5     8"
      ]
     },
     "execution_count": 11,
     "metadata": {},
     "output_type": "execute_result"
    }
   ],
   "source": [
    "import pandas as pd\n",
    "df = pd.DataFrame({\n",
    "    \"col1\":[\"beach\", \"city\", \"park\", \"farm\", \"suburb\"],\n",
    "    \"col2\":[10, 8, 9, 7, 5],\n",
    "    \"col3\":[1, 3, 2, 7, 8]\n",
    "})\n",
    "df.head()"
   ]
  },
  {
   "cell_type": "code",
   "execution_count": 14,
   "metadata": {
    "slideshow": {
     "slide_type": "skip"
    }
   },
   "outputs": [],
   "source": [
    "noneofyourbusiness=\"dance1993\""
   ]
  },
  {
   "cell_type": "code",
   "execution_count": 12,
   "metadata": {},
   "outputs": [
    {
     "name": "stdout",
     "output_type": "stream",
     "text": [
      "Requirement already satisfied: psycopg2 in c:\\users\\dothomas\\dom_setup\\lib\\site-packages (2.7.6.1)\n"
     ]
    }
   ],
   "source": [
    "!pip install psycopg2"
   ]
  },
  {
   "cell_type": "code",
   "execution_count": 15,
   "metadata": {
    "scrolled": true,
    "slideshow": {
     "slide_type": "subslide"
    }
   },
   "outputs": [
    {
     "data": {
      "text/plain": [
       "[('Active',\n",
       "  Decimal('0E-15'),\n",
       "  2010,\n",
       "  'FY10',\n",
       "  'Field',\n",
       "  'Labor',\n",
       "  None,\n",
       "  0,\n",
       "  Decimal('0E-15'),\n",
       "  None,\n",
       "  'Organic',\n",
       "  'Other DoD'),\n",
       " ('Active',\n",
       "  Decimal('2908.746607380000000'),\n",
       "  2012,\n",
       "  'FY12',\n",
       "  'Field',\n",
       "  'Labor',\n",
       "  None,\n",
       "  41779,\n",
       "  Decimal('69622.217079800000000'),\n",
       "  None,\n",
       "  'Organic',\n",
       "  'Marine Corps'),\n",
       " ('Active',\n",
       "  Decimal('6178.233758190000000'),\n",
       "  2010,\n",
       "  'FY10',\n",
       "  'Field',\n",
       "  'Labor',\n",
       "  None,\n",
       "  82454,\n",
       "  Decimal('74929.460768300000000'),\n",
       "  None,\n",
       "  'Organic',\n",
       "  'Air Force'),\n",
       " ('Active',\n",
       "  Decimal('6372.659629790000000'),\n",
       "  2012,\n",
       "  'FY12',\n",
       "  'Field',\n",
       "  'Labor',\n",
       "  None,\n",
       "  80324,\n",
       "  Decimal('79336.930802700000000'),\n",
       "  None,\n",
       "  'Organic',\n",
       "  'Air Force'),\n",
       " ('Active',\n",
       "  Decimal('6636.289881260000000'),\n",
       "  2013,\n",
       "  'FY13',\n",
       "  'Field',\n",
       "  'Labor',\n",
       "  None,\n",
       "  90464,\n",
       "  Decimal('73358.351181200000000'),\n",
       "  None,\n",
       "  'Organic',\n",
       "  'Army'),\n",
       " ('Active',\n",
       "  Decimal('6880.509584020000000'),\n",
       "  2010,\n",
       "  'FY10',\n",
       "  'Field',\n",
       "  'Labor',\n",
       "  None,\n",
       "  97866,\n",
       "  Decimal('70305.413361400000000'),\n",
       "  None,\n",
       "  'Organic',\n",
       "  'Army'),\n",
       " ('Active',\n",
       "  Decimal('7044.266569390000000'),\n",
       "  2011,\n",
       "  'FY11',\n",
       "  'Field',\n",
       "  'Labor',\n",
       "  None,\n",
       "  98771,\n",
       "  Decimal('71319.178396400000000'),\n",
       "  None,\n",
       "  'Organic',\n",
       "  'Army'),\n",
       " ('Active',\n",
       "  Decimal('9445.023829390000000'),\n",
       "  2012,\n",
       "  'FY12',\n",
       "  'Field',\n",
       "  'Labor',\n",
       "  None,\n",
       "  119031,\n",
       "  Decimal('79349.277326000000000'),\n",
       "  None,\n",
       "  'Organic',\n",
       "  'Navy'),\n",
       " ('Active',\n",
       "  Decimal('9716.712321410000000'),\n",
       "  2015,\n",
       "  'FY15',\n",
       "  'Field',\n",
       "  'Labor',\n",
       "  None,\n",
       "  121169,\n",
       "  Decimal('80191.404743900000000'),\n",
       "  None,\n",
       "  'Organic',\n",
       "  'Navy'),\n",
       " ('Active',\n",
       "  Decimal('10308.469016200000000'),\n",
       "  2018,\n",
       "  'FY18',\n",
       "  'Field',\n",
       "  'Labor',\n",
       "  None,\n",
       "  119312,\n",
       "  Decimal('86399.264250000000000'),\n",
       "  None,\n",
       "  'Organic',\n",
       "  'Navy')]"
      ]
     },
     "execution_count": 15,
     "metadata": {},
     "output_type": "execute_result"
    }
   ],
   "source": [
    "import psycopg2 as psql\n",
    "\n",
    "conn = psql.connect(host=\"immuta.lmi.org\", database=\"immuta\", user=\"dothomas\",password=noneofyourbusiness)\n",
    "cur = conn.cursor()\n",
    "cur.execute(\"SELECT * FROM final_production_schema_comref_maintainer_costs limit 100\")\n",
    "data = cur.fetchall()\n",
    "data[:10]"
   ]
  },
  {
   "cell_type": "code",
   "execution_count": 18,
   "metadata": {},
   "outputs": [
    {
     "data": {
      "text/html": [
       "<div>\n",
       "<style scoped>\n",
       "    .dataframe tbody tr th:only-of-type {\n",
       "        vertical-align: middle;\n",
       "    }\n",
       "\n",
       "    .dataframe tbody tr th {\n",
       "        vertical-align: top;\n",
       "    }\n",
       "\n",
       "    .dataframe thead th {\n",
       "        text-align: right;\n",
       "    }\n",
       "</style>\n",
       "<table border=\"1\" class=\"dataframe\">\n",
       "  <thead>\n",
       "    <tr style=\"text-align: right;\">\n",
       "      <th></th>\n",
       "      <th>Component</th>\n",
       "      <th>Cost_amount</th>\n",
       "      <th>FYYearInt</th>\n",
       "      <th>Fiscal_Year</th>\n",
       "      <th>Level_of_Maintenance</th>\n",
       "      <th>Nature_of_Cost</th>\n",
       "      <th>Non_Maintainers</th>\n",
       "      <th>Number_of_Maintainers</th>\n",
       "      <th>Per_Capita_rate</th>\n",
       "      <th>Percent_of_OD_LMO</th>\n",
       "      <th>Provider_of_Maintenance</th>\n",
       "      <th>Service</th>\n",
       "    </tr>\n",
       "  </thead>\n",
       "  <tbody>\n",
       "    <tr>\n",
       "      <th>0</th>\n",
       "      <td>Active</td>\n",
       "      <td>0.000000</td>\n",
       "      <td>2009</td>\n",
       "      <td>FY09</td>\n",
       "      <td>Field</td>\n",
       "      <td>Labor</td>\n",
       "      <td>NaN</td>\n",
       "      <td>0.0</td>\n",
       "      <td>0.000000</td>\n",
       "      <td>NaN</td>\n",
       "      <td>Organic</td>\n",
       "      <td>Other DoD</td>\n",
       "    </tr>\n",
       "    <tr>\n",
       "      <th>1</th>\n",
       "      <td>Active</td>\n",
       "      <td>0.000000</td>\n",
       "      <td>2014</td>\n",
       "      <td>FY14</td>\n",
       "      <td>Field</td>\n",
       "      <td>Labor</td>\n",
       "      <td>NaN</td>\n",
       "      <td>0.0</td>\n",
       "      <td>0.000000</td>\n",
       "      <td>NaN</td>\n",
       "      <td>Organic</td>\n",
       "      <td>Other DoD</td>\n",
       "    </tr>\n",
       "    <tr>\n",
       "      <th>2</th>\n",
       "      <td>Active</td>\n",
       "      <td>2722.412737</td>\n",
       "      <td>2016</td>\n",
       "      <td>FY16</td>\n",
       "      <td>Field</td>\n",
       "      <td>Labor</td>\n",
       "      <td>NaN</td>\n",
       "      <td>38527.0</td>\n",
       "      <td>70662.463637</td>\n",
       "      <td>NaN</td>\n",
       "      <td>Organic</td>\n",
       "      <td>Marine Corps</td>\n",
       "    </tr>\n",
       "    <tr>\n",
       "      <th>3</th>\n",
       "      <td>Active</td>\n",
       "      <td>2730.338132</td>\n",
       "      <td>2015</td>\n",
       "      <td>FY15</td>\n",
       "      <td>Field</td>\n",
       "      <td>Labor</td>\n",
       "      <td>NaN</td>\n",
       "      <td>39240.0</td>\n",
       "      <td>69580.482469</td>\n",
       "      <td>NaN</td>\n",
       "      <td>Organic</td>\n",
       "      <td>Marine Corps</td>\n",
       "    </tr>\n",
       "    <tr>\n",
       "      <th>4</th>\n",
       "      <td>Active</td>\n",
       "      <td>2744.151261</td>\n",
       "      <td>2009</td>\n",
       "      <td>FY09</td>\n",
       "      <td>Field</td>\n",
       "      <td>Labor</td>\n",
       "      <td>NaN</td>\n",
       "      <td>42305.0</td>\n",
       "      <td>64865.884910</td>\n",
       "      <td>NaN</td>\n",
       "      <td>Organic</td>\n",
       "      <td>Marine Corps</td>\n",
       "    </tr>\n",
       "  </tbody>\n",
       "</table>\n",
       "</div>"
      ],
      "text/plain": [
       "  Component  Cost_amount  FYYearInt Fiscal_Year Level_of_Maintenance  \\\n",
       "0    Active     0.000000       2009        FY09                Field   \n",
       "1    Active     0.000000       2014        FY14                Field   \n",
       "2    Active  2722.412737       2016        FY16                Field   \n",
       "3    Active  2730.338132       2015        FY15                Field   \n",
       "4    Active  2744.151261       2009        FY09                Field   \n",
       "\n",
       "  Nature_of_Cost  Non_Maintainers  Number_of_Maintainers  Per_Capita_rate  \\\n",
       "0          Labor              NaN                    0.0         0.000000   \n",
       "1          Labor              NaN                    0.0         0.000000   \n",
       "2          Labor              NaN                38527.0     70662.463637   \n",
       "3          Labor              NaN                39240.0     69580.482469   \n",
       "4          Labor              NaN                42305.0     64865.884910   \n",
       "\n",
       "   Percent_of_OD_LMO Provider_of_Maintenance       Service  \n",
       "0                NaN                 Organic     Other DoD  \n",
       "1                NaN                 Organic     Other DoD  \n",
       "2                NaN                 Organic  Marine Corps  \n",
       "3                NaN                 Organic  Marine Corps  \n",
       "4                NaN                 Organic  Marine Corps  "
      ]
     },
     "execution_count": 18,
     "metadata": {},
     "output_type": "execute_result"
    }
   ],
   "source": [
    "import pandas as pd\n",
    "import psycopg2 as psql\n",
    "\n",
    "conn = psql.connect(host=\"immuta.lmi.org\", database=\"immuta\", user=\"dothomas\",password=noneofyourbusiness)\n",
    "cur = conn.cursor()\n",
    "df = pd.read_sql_query(\"SELECT * FROM final_production_schema_comref_maintainer_costs limit 100\", conn)\n",
    "df.head()"
   ]
  },
  {
   "cell_type": "code",
   "execution_count": 24,
   "metadata": {},
   "outputs": [
    {
     "data": {
      "text/plain": [
       "<matplotlib.axes._subplots.AxesSubplot at 0x23c68cb9400>"
      ]
     },
     "execution_count": 24,
     "metadata": {},
     "output_type": "execute_result"
    },
    {
     "data": {
      "image/png": "[encoded data removed]",
      "text/plain": [
       "<Figure size 432x288 with 1 Axes>"
      ]
     },
     "metadata": {
      "needs_background": "light"
     },
     "output_type": "display_data"
    }
   ],
   "source": [
    "%matplotlib inline\n",
    "df.Component.value_counts().plot()"
   ]
  },
  {
   "cell_type": "markdown",
   "metadata": {
    "slideshow": {
     "slide_type": "subslide"
    }
   },
   "source": [
    "#### Working With the Data"
   ]
  },
  {
   "cell_type": "code",
   "execution_count": 16,
   "metadata": {
    "slideshow": {
     "slide_type": "fragment"
    }
   },
   "outputs": [
    {
     "data": {
      "text/plain": [
       "('Active',\n",
       " Decimal('0E-15'),\n",
       " 2010,\n",
       " 'FY10',\n",
       " 'Field',\n",
       " 'Labor',\n",
       " None,\n",
       " 0,\n",
       " Decimal('0E-15'),\n",
       " None,\n",
       " 'Organic',\n",
       " 'Other DoD')"
      ]
     },
     "execution_count": 16,
     "metadata": {},
     "output_type": "execute_result"
    }
   ],
   "source": [
    "data[0]"
   ]
  },
  {
   "cell_type": "code",
   "execution_count": null,
   "metadata": {
    "slideshow": {
     "slide_type": "fragment"
    }
   },
   "outputs": [],
   "source": [
    "d = {\"Component\":[], \"Cost_amount\":[], \"Fiscal_Year\":[], \"Level_of_Maintenance\":[],\n",
    "     \"Nature_of_Cost\":[], \"Non_Maintainers\":[], \"Number_of_Maintainers\":[],\n",
    "     \"Per_Capita_rate\":[], \"Percent_of_OD_LMO\":[], \"Provider_of_Maintenance\":[],\n",
    "     \"Service\":[]\n",
    "    }\n",
    "for row in data:\n",
    "    [d[key].append(item) for item,key in zip(row, d)]\n",
    "d         "
   ]
  },
  {
   "cell_type": "code",
   "execution_count": null,
   "metadata": {
    "slideshow": {
     "slide_type": "fragment"
    }
   },
   "outputs": [],
   "source": [
    "import pandas as pd\n",
    "df = pd.DataFrame(d)\n",
    "df.head(15)"
   ]
  },
  {
   "cell_type": "code",
   "execution_count": null,
   "metadata": {
    "slideshow": {
     "slide_type": "fragment"
    }
   },
   "outputs": [],
   "source": [
    "df.describe()"
   ]
  },
  {
   "cell_type": "code",
   "execution_count": null,
   "metadata": {
    "slideshow": {
     "slide_type": "subslide"
    }
   },
   "outputs": [],
   "source": [
    "%matplotlib inline\n",
    "\n",
    "df.Cost_amount.plot()"
   ]
  },
  {
   "cell_type": "code",
   "execution_count": null,
   "metadata": {
    "slideshow": {
     "slide_type": "subslide"
    }
   },
   "outputs": [],
   "source": [
    "df.describe(include=\"object\")"
   ]
  }
 ],
 "metadata": {
  "celltoolbar": "Slideshow",
  "kernelspec": {
   "display_name": "Python 3",
   "language": "python",
   "name": "python3"
  },
  "language_info": {
   "codemirror_mode": {
    "name": "ipython",
    "version": 3
   },
   "file_extension": ".py",
   "mimetype": "text/x-python",
   "name": "python",
   "nbconvert_exporter": "python",
   "pygments_lexer": "ipython3",
   "version": "3.7.3"
  }
 },
 "nbformat": 4,
 "nbformat_minor": 2
}
