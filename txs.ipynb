{
 "cells": [
  {
   "cell_type": "markdown",
   "metadata": {},
   "source": [
    "ambigdomainclassifier"
   ]
  },
  {
   "cell_type": "code",
   "execution_count": null,
   "metadata": {},
   "outputs": [],
   "source": [
    "import joblib\n",
    "def writeAlias(self, msg, alias_path):\n",
    "    \n",
    "    alias = joblib.load(aliases_path)\n",
    "    # expex the prior name intially provided and the correction\n",
    "    #TODO(): form input msg in non-resty way - need to track messages from instantiation to completion for the ambigcdomain engagement\n",
    "    alias[msg[\"corrected\"]].append(msg[\"prior\"])\n",
    "    joblib.dump(alias, aliases_path)\n",
    "    \n",
    "    \n",
    "def retrainNER(creds):\n",
    "    \n",
    "    NERTrainer(creds).trainNER()\n"
   ]
  },
  {
   "cell_type": "markdown",
   "metadata": {},
   "source": [
    "how much was blank on [date]?\n",
    "how much was blank from [date1] to [date2]?\n",
    "how much was blank last quarter?\n",
    "how much blank currently?\n",
    "how much recently?\n",
    "how much over last two quarters?\n",
    "how much over prior month? <- could imply 30day time period and not explicitly month\n",
    "how much last month?\n",
    "compare this year's quarter x to last year/year's."
   ]
  },
  {
   "cell_type": "markdown",
   "metadata": {},
   "source": [
    "\"provide all inventory for October of last year.\"\n",
    "            \n",
    "            |\n",
    "            |\n",
    "        blackbox\n",
    "        \n",
    "- Assumption(We are Identifying Values that we preceive to be values of the DB)\n",
    "\n",
    "* Process:\n",
    "    * Eval for Date Cases\n",
    "        * No Date Cases, Bye\n",
    "        * Identify Date Case present\n",
    "    * Execute func that corresponds to date case\n",
    "        * Understand schema\n",
    "            * sweep across each of the tables available in a given schema\n",
    "            * sweep across each of the columns - entities in each table\n",
    "        * Break user input to form to schema needs\n",
    "            * Form sub-query if needed\n",
    "        * form date query\n",
    "* other approaches \n",
    "    * could use datefinder for cases in which date is explicitly defined"
   ]
  },
  {
   "cell_type": "code",
   "execution_count": 5,
   "metadata": {},
   "outputs": [],
   "source": [
    "import pandas as pd\n",
    "import numpy as np\n",
    "import re\n",
    "from dateHandler import DateHandler"
   ]
  },
  {
   "cell_type": "code",
   "execution_count": 2,
   "metadata": {},
   "outputs": [
    {
     "name": "stdout",
     "output_type": "stream",
     "text": [
      "getPhrases called\n",
      "tokens avail ['how', 'much', 'was', 'revenue', 'last', 'october']\n",
      "id'd tokens that are also date triggers\n",
      "formed date entities:  {'october': {}}\n"
     ]
    },
    {
     "data": {
      "text/plain": [
       "IndexError('list index out of range')"
      ]
     },
     "execution_count": 2,
     "metadata": {},
     "output_type": "execute_result"
    }
   ],
   "source": [
    "q = \"how much was revenue last october?\"\n",
    "DateHandler(tokens=q.split()).getPhrases()"
   ]
  },
  {
   "cell_type": "code",
   "execution_count": 6,
   "metadata": {},
   "outputs": [
    {
     "data": {
      "text/plain": [
       "['oct']"
      ]
     },
     "execution_count": 6,
     "metadata": {},
     "output_type": "execute_result"
    }
   ],
   "source": [
    "re.findall(DateHandler().parser_dict[\"month\"], q)"
   ]
  },
  {
   "cell_type": "code",
   "execution_count": null,
   "metadata": {},
   "outputs": [],
   "source": [
    "\n",
    "triggers = [\"january\", \"february\", \"march\", \"april\", \"may\", \"june\", #ex. of getMultiple: can you return the budget for fy quarter 2 and 4 in 2017?\n",
    "            \"july\", \"august\", \"september\", \"october\", \"november\",\n",
    "            \"december\", \"jan\", \"feb\", \"mar\", \"apr\", \"jun\", \"jul\",\n",
    "            \"aug\", \"sep\", \"oct\", \"nov\", \"dec\", \"quarter\", \"period\",\n",
    "            \"duration\", \"year\", \"month\", \"mon\", \"tue\", \"wed\", \"thur\", \n",
    "            \"fri\"\n",
    "           ]\n",
    "\n"
   ]
  },
  {
   "cell_type": "code",
   "execution_count": null,
   "metadata": {},
   "outputs": [],
   "source": [
    "DateHandler().crossCheck(q.split()).check(triggers)"
   ]
  },
  {
   "cell_type": "code",
   "execution_count": null,
   "metadata": {},
   "outputs": [],
   "source": []
  },
  {
   "cell_type": "code",
   "execution_count": null,
   "metadata": {},
   "outputs": [],
   "source": []
  },
  {
   "cell_type": "code",
   "execution_count": null,
   "metadata": {},
   "outputs": [],
   "source": [
    "from IPython.core.display import display, Javascript, HTML"
   ]
  },
  {
   "cell_type": "code",
   "execution_count": null,
   "metadata": {},
   "outputs": [],
   "source": [
    "%%javascript\n",
    "\n",
    "require.config({\n",
    "    paths: {\n",
    "        d3:\"https://cdnjs.cloudflare.com/ajax/libs/d3/4.9.1/d3.min.js\"\n",
    "    }\n",
    "});\n",
    "\n",
    "(function(element){\n",
    "    require(['d3'], function(d3) {\n",
    "        //inlieuofpreformatcontainer\n",
    "        var svg = d3.select(element.get(0)).append(\"svg\").attr(\"id\", \"chart\").attr(\"width\", 800).attr(\"height\", 800);\n",
    "        function createLinearX(data, width){\n",
    "            var x = d3.scaleLinear().domain([0, 1.05*d3.max(data, (d)=>(+d.value))]).range([0, width]),\n",
    "                xAxis = d3.axisBottom(x);\n",
    "            \n",
    "            return [x, xAxis]\n",
    "        }\n",
    "        //TODO(): add capability for time axis\n",
    "        function createLinearY(data, height){\n",
    "            var y = d3.scaleLinear().domain([0, 1.05*d3.max(data, (d)=>(+d.value))]).range([heihgt, 0]),\n",
    "                yAxis=d3.axisLeft(y);\n",
    "            return [y, yAxis]\n",
    "        }\n",
    "        \n",
    "        function plotLine(data_in){\n",
    "            var data = preprocessData(data_in),\n",
    "                margin={top:20, left: 20, right: 20, bottom: 20},\n",
    "                width=800-margin.left-margin.right,\n",
    "                height=800-margin.top-margin.bottom,\n",
    "                X=createLinearX(data, width),\n",
    "                Y=createLinearY(data, height),\n",
    "                x=X[0],\n",
    "                xAxis=X[1],\n",
    "                y=Y[0],\n",
    "                yAxis=Y[1];\n",
    "            \n",
    "            \n",
    "        }\n",
    "    });\n",
    "})(element)"
   ]
  },
  {
   "cell_type": "markdown",
   "metadata": {},
   "source": [
    "#### regex meta character breakdown\n",
    "\n",
    ". matches any single character except a line break\n",
    "[] matches any character contained between the square brackets\n",
    "[^] neglects any character matched within the square brackets\n",
    "* matches 0 or more repetitions of the preceding symbo\n",
    "+ matches 1 or more repitions of the preceding symbol\n",
    "? makes the preceding symbol optional to match\n",
    "{n,m} matches at least n but not more than n reptitions of the preceding symbol\n",
    "(x,y,z) matches the characters x,y,z in order\n",
    "| matches either the characters before or the characters after the symbol\n",
    "\\ escapes the next character\n",
    "^ matches the begininning of the input\n",
    "$ matches the end of the input"
   ]
  }
 ],
 "metadata": {
  "kernelspec": {
   "display_name": "Python 3",
   "language": "python",
   "name": "python3"
  },
  "language_info": {
   "codemirror_mode": {
    "name": "ipython",
    "version": 3
   },
   "file_extension": ".py",
   "mimetype": "text/x-python",
   "name": "python",
   "nbconvert_exporter": "python",
   "pygments_lexer": "ipython3",
   "version": "3.7.3"
  }
 },
 "nbformat": 4,
 "nbformat_minor": 2
}
